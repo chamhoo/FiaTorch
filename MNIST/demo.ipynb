{
 "cells": [
  {
   "cell_type": "markdown",
   "id": "round-liability",
   "metadata": {},
   "source": [
    "# TRAINING MNIST WITH FIATORCH"
   ]
  },
  {
   "cell_type": "markdown",
   "id": "radical-tyler",
   "metadata": {},
   "source": [
    "## 1. init a task"
   ]
  },
  {
   "cell_type": "code",
   "execution_count": null,
   "id": "automated-miami",
   "metadata": {},
   "outputs": [],
   "source": [
    "from fiat import task"
   ]
  },
  {
   "cell_type": "code",
   "execution_count": null,
   "id": "available-reputation",
   "metadata": {},
   "outputs": [],
   "source": [
    "# init a task and add a block.\n",
    "\n",
    "f = task()\n",
    "f.add_block(name='classify')"
   ]
  }
 ],
 "metadata": {
  "kernelspec": {
   "display_name": "pytorch",
   "language": "python",
   "name": "img"
  },
  "language_info": {
   "codemirror_mode": {
    "name": "ipython",
    "version": 3
   },
   "file_extension": ".py",
   "mimetype": "text/x-python",
   "name": "python",
   "nbconvert_exporter": "python",
   "pygments_lexer": "ipython3",
   "version": "3.8.5"
  }
 },
 "nbformat": 4,
 "nbformat_minor": 5
}
